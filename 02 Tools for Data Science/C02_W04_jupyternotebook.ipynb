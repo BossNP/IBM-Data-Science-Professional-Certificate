{
 "cells": [
  {
   "cell_type": "markdown",
   "metadata": {},
   "source": [
    "<center>\n",
    "    <img src=\"https://s3-api.us-geo.objectstorage.softlayer.net/cf-courses-data/CognitiveClass/Logos/organization_logo/organization_logo.png\" width=\"300\" alt=\"cognitiveclass.ai logo\"  />\n",
    "</center>\n"
   ]
  },
  {
   "cell_type": "markdown",
   "metadata": {},
   "source": [
    "#### Add your code below following the instructions given in the course\n",
    "\n",
    "This course introduced you to multiple data science tools, and in this final project, you will use Jupyter Notebook, one of the easiest tools to share publicly.\n",
    "\n",
    "Include at least 6 cells:\n",
    "\n",
    "Cell 1 (rendered as Markdown): The title should be \"My Jupyter Notebook on IBM Watson Studio\", in H1 header styling. The title does not need to be centered.\n",
    "\n",
    "Cell 2 (rendered as Markdown): Include your name, in bold characters. In the line below your name, write your current or desired occupation in regular font.\n",
    "\n",
    "Cell 3 (rendered as Markdown): In italic formatting, write one or two sentences about why you are interested in data science. For example, you can start your first sentence with \"I am interested in data science because ...\".\n",
    "\n",
    "Cell 4 (rendered as Markdown): In H3 header styling, explain in a short sentence what your code is supposed to do in Cell 5.\n",
    "\n",
    "Cell 5 (code cell): Your code, as described in Cell 4. It must be executed and must display an output. Try to keep the code simple (it can even be \"1 + 1\").\n",
    "\n",
    "Cell 6 (rendered as Markdown): Using Markdown or HTML, this cell must include at least 3 of the following: horizontal rule, bulleted list, numbered list, tables, hyperlinks, images, code/syntax highlighting, blocked quotes, strikethrough.\n"
   ]
  },
  {
   "cell_type": "markdown",
   "source": [
    "# My Jupyter Notebook on IBM Watson Studio\n",
    "\n",
    "Nuttasit Phasukdee\n",
    "Data Scientist\n",
    "\n",
    "I am interested in data science because we can learn, create, and improve many things from data.\n",
    "\n",
    "### Print the sum result"
   ],
   "metadata": {
    "collapsed": false
   }
  },
  {
   "cell_type": "code",
   "execution_count": 1,
   "metadata": {},
   "outputs": [
    {
     "name": "stdout",
     "output_type": "stream",
     "text": [
      "1 + 1 = 2\n"
     ]
    }
   ],
   "source": [
    "result = 1 + 1\n",
    "print(f\"1 + 1 = {result}\")"
   ]
  },
  {
   "cell_type": "markdown",
   "source": [
    "- Common Programming Languages in Data Science\n",
    "    1. Python\n",
    "    2. R language\n",
    "    3. SQL\n",
    "\n",
    "| Column 1 |Column 2|\n",
    "|----------|--------|\n",
    "| 001      |Hello"
   ],
   "metadata": {
    "collapsed": false
   }
  },
  {
   "cell_type": "markdown",
   "source": [],
   "metadata": {
    "collapsed": false
   }
  }
 ],
 "metadata": {
  "kernelspec": {
   "display_name": "Python 3",
   "language": "python",
   "name": "python3"
  },
  "language_info": {
   "codemirror_mode": {
    "name": "ipython",
    "version": 3
   },
   "file_extension": ".py",
   "mimetype": "text/x-python",
   "name": "python",
   "nbconvert_exporter": "python",
   "pygments_lexer": "ipython3",
   "version": "3.7.6"
  }
 },
 "nbformat": 4,
 "nbformat_minor": 4
}
